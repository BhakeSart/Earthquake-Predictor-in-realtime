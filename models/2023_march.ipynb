{
 "cells": [
  {
   "cell_type": "markdown",
   "id": "7199e7db",
   "metadata": {},
   "source": [
    "## Importing Dependencies"
   ]
  },
  {
   "cell_type": "code",
   "execution_count": 44,
   "id": "a0d63e51",
   "metadata": {},
   "outputs": [],
   "source": [
    "import pandas as pd\n",
    "import numpy as np\n",
    "import matplotlib.pyplot as plt\n",
    "import seaborn as sns\n",
    "from sklearn import preprocessing;\n",
    "from sklearn import model_selection;\n",
    "from sklearn import linear_model;\n",
    "from sklearn.model_selection import train_test_split\n",
    "from sqlalchemy import create_engine\n",
    "import xgboost as xgb\n",
    "import warnings\n",
    "warnings.filterwarnings('ignore')\n",
    "from sklearn.metrics import classification_report , precision_score , recall_score \n",
    "from sklearn.metrics import f1_score , roc_curve\n",
    "from sklearn.metrics import auc\n",
    "from sklearn.ensemble import RandomForestClassifier\n",
    "from sklearn.ensemble import AdaBoostClassifier\n",
    "from sklearn.tree import DecisionTreeClassifier\n",
    "from sklearn.model_selection import GridSearchCV\n",
    "from sklearn.metrics import roc_auc_score\n",
    "from sklearn.metrics import recall_score\n",
    "from sklearn.metrics import confusion_matrix\n",
    "from sklearn.datasets import make_classification"
   ]
  },
  {
   "cell_type": "code",
   "execution_count": 2,
   "id": "91fca826",
   "metadata": {},
   "outputs": [],
   "source": [
    "engine =create_engine('sqlite:///../Data/2023_march.db')\n",
    "df_features = pd.read_sql_table('Earthquake_features',con=engine)"
   ]
  },
  {
   "cell_type": "code",
   "execution_count": 3,
   "id": "a22a40f6",
   "metadata": {},
   "outputs": [
    {
     "data": {
      "text/html": [
       "<div>\n",
       "<style scoped>\n",
       "    .dataframe tbody tr th:only-of-type {\n",
       "        vertical-align: middle;\n",
       "    }\n",
       "\n",
       "    .dataframe tbody tr th {\n",
       "        vertical-align: top;\n",
       "    }\n",
       "\n",
       "    .dataframe thead th {\n",
       "        text-align: right;\n",
       "    }\n",
       "</style>\n",
       "<table border=\"1\" class=\"dataframe\">\n",
       "  <thead>\n",
       "    <tr style=\"text-align: right;\">\n",
       "      <th></th>\n",
       "      <th>date</th>\n",
       "      <th>depth</th>\n",
       "      <th>mag</th>\n",
       "      <th>place</th>\n",
       "      <th>latitude</th>\n",
       "      <th>longitude</th>\n",
       "      <th>depth_avg_22</th>\n",
       "      <th>depth_avg_15</th>\n",
       "      <th>depth_avg_7</th>\n",
       "      <th>mag_avg_22</th>\n",
       "      <th>mag_avg_15</th>\n",
       "      <th>mag_avg_7</th>\n",
       "      <th>mag_outcome</th>\n",
       "    </tr>\n",
       "  </thead>\n",
       "  <tbody>\n",
       "    <tr>\n",
       "      <th>0</th>\n",
       "      <td>2023-02-16</td>\n",
       "      <td>3.32</td>\n",
       "      <td>1.69</td>\n",
       "      <td>Utah</td>\n",
       "      <td>39.706944</td>\n",
       "      <td>-112.278967</td>\n",
       "      <td>5.732727</td>\n",
       "      <td>6.249333</td>\n",
       "      <td>6.334286</td>\n",
       "      <td>1.196818</td>\n",
       "      <td>1.238667</td>\n",
       "      <td>1.511429</td>\n",
       "      <td>0</td>\n",
       "    </tr>\n",
       "    <tr>\n",
       "      <th>1</th>\n",
       "      <td>2023-02-16</td>\n",
       "      <td>0.53</td>\n",
       "      <td>-0.26</td>\n",
       "      <td>Utah</td>\n",
       "      <td>39.706944</td>\n",
       "      <td>-112.278967</td>\n",
       "      <td>5.910455</td>\n",
       "      <td>5.754667</td>\n",
       "      <td>4.554286</td>\n",
       "      <td>1.113636</td>\n",
       "      <td>1.176667</td>\n",
       "      <td>1.265714</td>\n",
       "      <td>0</td>\n",
       "    </tr>\n",
       "    <tr>\n",
       "      <th>2</th>\n",
       "      <td>2023-02-16</td>\n",
       "      <td>5.01</td>\n",
       "      <td>0.36</td>\n",
       "      <td>Utah</td>\n",
       "      <td>39.706944</td>\n",
       "      <td>-112.278967</td>\n",
       "      <td>6.012273</td>\n",
       "      <td>5.925333</td>\n",
       "      <td>4.437143</td>\n",
       "      <td>1.062273</td>\n",
       "      <td>1.003333</td>\n",
       "      <td>1.075714</td>\n",
       "      <td>0</td>\n",
       "    </tr>\n",
       "    <tr>\n",
       "      <th>3</th>\n",
       "      <td>2023-02-17</td>\n",
       "      <td>5.37</td>\n",
       "      <td>0.91</td>\n",
       "      <td>Utah</td>\n",
       "      <td>39.706944</td>\n",
       "      <td>-112.278967</td>\n",
       "      <td>6.025000</td>\n",
       "      <td>5.922667</td>\n",
       "      <td>4.204286</td>\n",
       "      <td>1.134091</td>\n",
       "      <td>1.012000</td>\n",
       "      <td>1.044286</td>\n",
       "      <td>0</td>\n",
       "    </tr>\n",
       "    <tr>\n",
       "      <th>4</th>\n",
       "      <td>2023-02-17</td>\n",
       "      <td>7.09</td>\n",
       "      <td>0.90</td>\n",
       "      <td>Utah</td>\n",
       "      <td>39.706944</td>\n",
       "      <td>-112.278967</td>\n",
       "      <td>6.096364</td>\n",
       "      <td>6.022667</td>\n",
       "      <td>4.820000</td>\n",
       "      <td>1.115000</td>\n",
       "      <td>1.033333</td>\n",
       "      <td>1.007143</td>\n",
       "      <td>0</td>\n",
       "    </tr>\n",
       "  </tbody>\n",
       "</table>\n",
       "</div>"
      ],
      "text/plain": [
       "         date  depth   mag place   latitude   longitude  depth_avg_22  \\\n",
       "0  2023-02-16   3.32  1.69  Utah  39.706944 -112.278967      5.732727   \n",
       "1  2023-02-16   0.53 -0.26  Utah  39.706944 -112.278967      5.910455   \n",
       "2  2023-02-16   5.01  0.36  Utah  39.706944 -112.278967      6.012273   \n",
       "3  2023-02-17   5.37  0.91  Utah  39.706944 -112.278967      6.025000   \n",
       "4  2023-02-17   7.09  0.90  Utah  39.706944 -112.278967      6.096364   \n",
       "\n",
       "   depth_avg_15  depth_avg_7  mag_avg_22  mag_avg_15  mag_avg_7  mag_outcome  \n",
       "0      6.249333     6.334286    1.196818    1.238667   1.511429            0  \n",
       "1      5.754667     4.554286    1.113636    1.176667   1.265714            0  \n",
       "2      5.925333     4.437143    1.062273    1.003333   1.075714            0  \n",
       "3      5.922667     4.204286    1.134091    1.012000   1.044286            0  \n",
       "4      6.022667     4.820000    1.115000    1.033333   1.007143            0  "
      ]
     },
     "execution_count": 3,
     "metadata": {},
     "output_type": "execute_result"
    }
   ],
   "source": [
    "df_features.head()"
   ]
  },
  {
   "cell_type": "code",
   "execution_count": 4,
   "id": "e86edfb2",
   "metadata": {},
   "outputs": [],
   "source": [
    "engine =create_engine('sqlite:///../Data/2023_march_predict.db')\n",
    "df_predict = pd.read_sql_table('Earthquake_predict',con=engine)"
   ]
  },
  {
   "cell_type": "code",
   "execution_count": 5,
   "id": "3675ff7a",
   "metadata": {},
   "outputs": [
    {
     "data": {
      "text/html": [
       "<div>\n",
       "<style scoped>\n",
       "    .dataframe tbody tr th:only-of-type {\n",
       "        vertical-align: middle;\n",
       "    }\n",
       "\n",
       "    .dataframe tbody tr th {\n",
       "        vertical-align: top;\n",
       "    }\n",
       "\n",
       "    .dataframe thead th {\n",
       "        text-align: right;\n",
       "    }\n",
       "</style>\n",
       "<table border=\"1\" class=\"dataframe\">\n",
       "  <thead>\n",
       "    <tr style=\"text-align: right;\">\n",
       "      <th></th>\n",
       "      <th>date</th>\n",
       "      <th>depth</th>\n",
       "      <th>mag</th>\n",
       "      <th>place</th>\n",
       "      <th>latitude</th>\n",
       "      <th>longitude</th>\n",
       "      <th>depth_avg_22</th>\n",
       "      <th>depth_avg_15</th>\n",
       "      <th>depth_avg_7</th>\n",
       "      <th>mag_avg_22</th>\n",
       "      <th>mag_avg_15</th>\n",
       "      <th>mag_avg_7</th>\n",
       "      <th>mag_outcome</th>\n",
       "    </tr>\n",
       "  </thead>\n",
       "  <tbody>\n",
       "    <tr>\n",
       "      <th>0</th>\n",
       "      <td>2023-03-07</td>\n",
       "      <td>7.63</td>\n",
       "      <td>1.69</td>\n",
       "      <td>Utah</td>\n",
       "      <td>39.706944</td>\n",
       "      <td>-112.278967</td>\n",
       "      <td>4.565455</td>\n",
       "      <td>6.140000</td>\n",
       "      <td>7.581429</td>\n",
       "      <td>1.155000</td>\n",
       "      <td>1.145333</td>\n",
       "      <td>1.341429</td>\n",
       "      <td>NaN</td>\n",
       "    </tr>\n",
       "    <tr>\n",
       "      <th>1</th>\n",
       "      <td>2023-03-07</td>\n",
       "      <td>9.65</td>\n",
       "      <td>2.68</td>\n",
       "      <td>Utah</td>\n",
       "      <td>39.706944</td>\n",
       "      <td>-112.278967</td>\n",
       "      <td>4.993182</td>\n",
       "      <td>6.414000</td>\n",
       "      <td>6.020000</td>\n",
       "      <td>1.285909</td>\n",
       "      <td>1.256667</td>\n",
       "      <td>1.467143</td>\n",
       "      <td>NaN</td>\n",
       "    </tr>\n",
       "    <tr>\n",
       "      <th>2</th>\n",
       "      <td>2023-03-07</td>\n",
       "      <td>9.35</td>\n",
       "      <td>1.22</td>\n",
       "      <td>Utah</td>\n",
       "      <td>39.706944</td>\n",
       "      <td>-112.278967</td>\n",
       "      <td>5.418182</td>\n",
       "      <td>6.490000</td>\n",
       "      <td>5.697143</td>\n",
       "      <td>1.330909</td>\n",
       "      <td>1.213333</td>\n",
       "      <td>1.414286</td>\n",
       "      <td>NaN</td>\n",
       "    </tr>\n",
       "    <tr>\n",
       "      <th>3</th>\n",
       "      <td>2023-03-08</td>\n",
       "      <td>9.97</td>\n",
       "      <td>1.91</td>\n",
       "      <td>Utah</td>\n",
       "      <td>39.706944</td>\n",
       "      <td>-112.278967</td>\n",
       "      <td>5.881818</td>\n",
       "      <td>6.992667</td>\n",
       "      <td>7.527143</td>\n",
       "      <td>1.364091</td>\n",
       "      <td>1.332667</td>\n",
       "      <td>1.438571</td>\n",
       "      <td>NaN</td>\n",
       "    </tr>\n",
       "    <tr>\n",
       "      <th>4</th>\n",
       "      <td>2023-03-09</td>\n",
       "      <td>2.49</td>\n",
       "      <td>2.28</td>\n",
       "      <td>Utah</td>\n",
       "      <td>39.706944</td>\n",
       "      <td>-112.278967</td>\n",
       "      <td>6.145455</td>\n",
       "      <td>7.140000</td>\n",
       "      <td>6.588571</td>\n",
       "      <td>1.387273</td>\n",
       "      <td>1.444667</td>\n",
       "      <td>1.602857</td>\n",
       "      <td>NaN</td>\n",
       "    </tr>\n",
       "  </tbody>\n",
       "</table>\n",
       "</div>"
      ],
      "text/plain": [
       "         date  depth   mag place   latitude   longitude  depth_avg_22  \\\n",
       "0  2023-03-07   7.63  1.69  Utah  39.706944 -112.278967      4.565455   \n",
       "1  2023-03-07   9.65  2.68  Utah  39.706944 -112.278967      4.993182   \n",
       "2  2023-03-07   9.35  1.22  Utah  39.706944 -112.278967      5.418182   \n",
       "3  2023-03-08   9.97  1.91  Utah  39.706944 -112.278967      5.881818   \n",
       "4  2023-03-09   2.49  2.28  Utah  39.706944 -112.278967      6.145455   \n",
       "\n",
       "   depth_avg_15  depth_avg_7  mag_avg_22  mag_avg_15  mag_avg_7  mag_outcome  \n",
       "0      6.140000     7.581429    1.155000    1.145333   1.341429          NaN  \n",
       "1      6.414000     6.020000    1.285909    1.256667   1.467143          NaN  \n",
       "2      6.490000     5.697143    1.330909    1.213333   1.414286          NaN  \n",
       "3      6.992667     7.527143    1.364091    1.332667   1.438571          NaN  \n",
       "4      7.140000     6.588571    1.387273    1.444667   1.602857          NaN  "
      ]
     },
     "execution_count": 5,
     "metadata": {},
     "output_type": "execute_result"
    }
   ],
   "source": [
    "df_predict.head()"
   ]
  },
  {
   "cell_type": "code",
   "execution_count": 6,
   "id": "185fc22f",
   "metadata": {},
   "outputs": [
    {
     "data": {
      "text/html": [
       "<div>\n",
       "<style scoped>\n",
       "    .dataframe tbody tr th:only-of-type {\n",
       "        vertical-align: middle;\n",
       "    }\n",
       "\n",
       "    .dataframe tbody tr th {\n",
       "        vertical-align: top;\n",
       "    }\n",
       "\n",
       "    .dataframe thead th {\n",
       "        text-align: right;\n",
       "    }\n",
       "</style>\n",
       "<table border=\"1\" class=\"dataframe\">\n",
       "  <thead>\n",
       "    <tr style=\"text-align: right;\">\n",
       "      <th></th>\n",
       "      <th>depth</th>\n",
       "      <th>mag</th>\n",
       "      <th>latitude</th>\n",
       "      <th>longitude</th>\n",
       "      <th>depth_avg_22</th>\n",
       "      <th>depth_avg_15</th>\n",
       "      <th>depth_avg_7</th>\n",
       "      <th>mag_avg_22</th>\n",
       "      <th>mag_avg_15</th>\n",
       "      <th>mag_avg_7</th>\n",
       "      <th>mag_outcome</th>\n",
       "    </tr>\n",
       "  </thead>\n",
       "  <tbody>\n",
       "    <tr>\n",
       "      <th>depth</th>\n",
       "      <td>1.000000</td>\n",
       "      <td>0.334814</td>\n",
       "      <td>0.125466</td>\n",
       "      <td>-0.061006</td>\n",
       "      <td>0.477961</td>\n",
       "      <td>0.497904</td>\n",
       "      <td>0.557688</td>\n",
       "      <td>0.163168</td>\n",
       "      <td>0.171044</td>\n",
       "      <td>0.190827</td>\n",
       "      <td>0.089121</td>\n",
       "    </tr>\n",
       "    <tr>\n",
       "      <th>mag</th>\n",
       "      <td>0.334814</td>\n",
       "      <td>1.000000</td>\n",
       "      <td>-0.235942</td>\n",
       "      <td>0.357574</td>\n",
       "      <td>0.213800</td>\n",
       "      <td>0.219993</td>\n",
       "      <td>0.232957</td>\n",
       "      <td>0.633687</td>\n",
       "      <td>0.647523</td>\n",
       "      <td>0.689136</td>\n",
       "      <td>0.469006</td>\n",
       "    </tr>\n",
       "    <tr>\n",
       "      <th>latitude</th>\n",
       "      <td>0.125466</td>\n",
       "      <td>-0.235942</td>\n",
       "      <td>1.000000</td>\n",
       "      <td>-0.681038</td>\n",
       "      <td>0.272215</td>\n",
       "      <td>0.263720</td>\n",
       "      <td>0.236421</td>\n",
       "      <td>-0.367385</td>\n",
       "      <td>-0.358623</td>\n",
       "      <td>-0.338296</td>\n",
       "      <td>-0.409236</td>\n",
       "    </tr>\n",
       "    <tr>\n",
       "      <th>longitude</th>\n",
       "      <td>-0.061006</td>\n",
       "      <td>0.357574</td>\n",
       "      <td>-0.681038</td>\n",
       "      <td>1.000000</td>\n",
       "      <td>-0.145480</td>\n",
       "      <td>-0.141656</td>\n",
       "      <td>-0.128700</td>\n",
       "      <td>0.551778</td>\n",
       "      <td>0.541521</td>\n",
       "      <td>0.512544</td>\n",
       "      <td>0.683211</td>\n",
       "    </tr>\n",
       "    <tr>\n",
       "      <th>depth_avg_22</th>\n",
       "      <td>0.477961</td>\n",
       "      <td>0.213800</td>\n",
       "      <td>0.272215</td>\n",
       "      <td>-0.145480</td>\n",
       "      <td>1.000000</td>\n",
       "      <td>0.961416</td>\n",
       "      <td>0.851406</td>\n",
       "      <td>0.340444</td>\n",
       "      <td>0.335936</td>\n",
       "      <td>0.315302</td>\n",
       "      <td>0.165030</td>\n",
       "    </tr>\n",
       "    <tr>\n",
       "      <th>depth_avg_15</th>\n",
       "      <td>0.497904</td>\n",
       "      <td>0.219993</td>\n",
       "      <td>0.263720</td>\n",
       "      <td>-0.141656</td>\n",
       "      <td>0.961416</td>\n",
       "      <td>1.000000</td>\n",
       "      <td>0.887835</td>\n",
       "      <td>0.325268</td>\n",
       "      <td>0.341026</td>\n",
       "      <td>0.323307</td>\n",
       "      <td>0.158822</td>\n",
       "    </tr>\n",
       "    <tr>\n",
       "      <th>depth_avg_7</th>\n",
       "      <td>0.557688</td>\n",
       "      <td>0.232957</td>\n",
       "      <td>0.236421</td>\n",
       "      <td>-0.128700</td>\n",
       "      <td>0.851406</td>\n",
       "      <td>0.887835</td>\n",
       "      <td>1.000000</td>\n",
       "      <td>0.283055</td>\n",
       "      <td>0.298654</td>\n",
       "      <td>0.339809</td>\n",
       "      <td>0.140222</td>\n",
       "    </tr>\n",
       "    <tr>\n",
       "      <th>mag_avg_22</th>\n",
       "      <td>0.163168</td>\n",
       "      <td>0.633687</td>\n",
       "      <td>-0.367385</td>\n",
       "      <td>0.551778</td>\n",
       "      <td>0.340444</td>\n",
       "      <td>0.325268</td>\n",
       "      <td>0.283055</td>\n",
       "      <td>1.000000</td>\n",
       "      <td>0.981060</td>\n",
       "      <td>0.920057</td>\n",
       "      <td>0.722123</td>\n",
       "    </tr>\n",
       "    <tr>\n",
       "      <th>mag_avg_15</th>\n",
       "      <td>0.171044</td>\n",
       "      <td>0.647523</td>\n",
       "      <td>-0.358623</td>\n",
       "      <td>0.541521</td>\n",
       "      <td>0.335936</td>\n",
       "      <td>0.341026</td>\n",
       "      <td>0.298654</td>\n",
       "      <td>0.981060</td>\n",
       "      <td>1.000000</td>\n",
       "      <td>0.942450</td>\n",
       "      <td>0.709919</td>\n",
       "    </tr>\n",
       "    <tr>\n",
       "      <th>mag_avg_7</th>\n",
       "      <td>0.190827</td>\n",
       "      <td>0.689136</td>\n",
       "      <td>-0.338296</td>\n",
       "      <td>0.512544</td>\n",
       "      <td>0.315302</td>\n",
       "      <td>0.323307</td>\n",
       "      <td>0.339809</td>\n",
       "      <td>0.920057</td>\n",
       "      <td>0.942450</td>\n",
       "      <td>1.000000</td>\n",
       "      <td>0.672386</td>\n",
       "    </tr>\n",
       "    <tr>\n",
       "      <th>mag_outcome</th>\n",
       "      <td>0.089121</td>\n",
       "      <td>0.469006</td>\n",
       "      <td>-0.409236</td>\n",
       "      <td>0.683211</td>\n",
       "      <td>0.165030</td>\n",
       "      <td>0.158822</td>\n",
       "      <td>0.140222</td>\n",
       "      <td>0.722123</td>\n",
       "      <td>0.709919</td>\n",
       "      <td>0.672386</td>\n",
       "      <td>1.000000</td>\n",
       "    </tr>\n",
       "  </tbody>\n",
       "</table>\n",
       "</div>"
      ],
      "text/plain": [
       "                 depth       mag  latitude  longitude  depth_avg_22  \\\n",
       "depth         1.000000  0.334814  0.125466  -0.061006      0.477961   \n",
       "mag           0.334814  1.000000 -0.235942   0.357574      0.213800   \n",
       "latitude      0.125466 -0.235942  1.000000  -0.681038      0.272215   \n",
       "longitude    -0.061006  0.357574 -0.681038   1.000000     -0.145480   \n",
       "depth_avg_22  0.477961  0.213800  0.272215  -0.145480      1.000000   \n",
       "depth_avg_15  0.497904  0.219993  0.263720  -0.141656      0.961416   \n",
       "depth_avg_7   0.557688  0.232957  0.236421  -0.128700      0.851406   \n",
       "mag_avg_22    0.163168  0.633687 -0.367385   0.551778      0.340444   \n",
       "mag_avg_15    0.171044  0.647523 -0.358623   0.541521      0.335936   \n",
       "mag_avg_7     0.190827  0.689136 -0.338296   0.512544      0.315302   \n",
       "mag_outcome   0.089121  0.469006 -0.409236   0.683211      0.165030   \n",
       "\n",
       "              depth_avg_15  depth_avg_7  mag_avg_22  mag_avg_15  mag_avg_7  \\\n",
       "depth             0.497904     0.557688    0.163168    0.171044   0.190827   \n",
       "mag               0.219993     0.232957    0.633687    0.647523   0.689136   \n",
       "latitude          0.263720     0.236421   -0.367385   -0.358623  -0.338296   \n",
       "longitude        -0.141656    -0.128700    0.551778    0.541521   0.512544   \n",
       "depth_avg_22      0.961416     0.851406    0.340444    0.335936   0.315302   \n",
       "depth_avg_15      1.000000     0.887835    0.325268    0.341026   0.323307   \n",
       "depth_avg_7       0.887835     1.000000    0.283055    0.298654   0.339809   \n",
       "mag_avg_22        0.325268     0.283055    1.000000    0.981060   0.920057   \n",
       "mag_avg_15        0.341026     0.298654    0.981060    1.000000   0.942450   \n",
       "mag_avg_7         0.323307     0.339809    0.920057    0.942450   1.000000   \n",
       "mag_outcome       0.158822     0.140222    0.722123    0.709919   0.672386   \n",
       "\n",
       "              mag_outcome  \n",
       "depth            0.089121  \n",
       "mag              0.469006  \n",
       "latitude        -0.409236  \n",
       "longitude        0.683211  \n",
       "depth_avg_22     0.165030  \n",
       "depth_avg_15     0.158822  \n",
       "depth_avg_7      0.140222  \n",
       "mag_avg_22       0.722123  \n",
       "mag_avg_15       0.709919  \n",
       "mag_avg_7        0.672386  \n",
       "mag_outcome      1.000000  "
      ]
     },
     "execution_count": 6,
     "metadata": {},
     "output_type": "execute_result"
    }
   ],
   "source": [
    "df_features.corr()"
   ]
  },
  {
   "cell_type": "code",
   "execution_count": 7,
   "id": "440c83c8",
   "metadata": {},
   "outputs": [],
   "source": [
    "features = [f for f in list(df_features) if f not in ['date', 'lon_box_mean',\n",
    " 'lat_box_mean', 'mag_outcome', 'mag', 'place',\n",
    " 'combo_box_mean',  'latitude',\n",
    " 'longitude']]"
   ]
  },
  {
   "cell_type": "code",
   "execution_count": 8,
   "id": "65972a1f",
   "metadata": {},
   "outputs": [
    {
     "data": {
      "text/plain": [
       "['depth',\n",
       " 'depth_avg_22',\n",
       " 'depth_avg_15',\n",
       " 'depth_avg_7',\n",
       " 'mag_avg_22',\n",
       " 'mag_avg_15',\n",
       " 'mag_avg_7']"
      ]
     },
     "execution_count": 8,
     "metadata": {},
     "output_type": "execute_result"
    }
   ],
   "source": [
    "features"
   ]
  },
  {
   "cell_type": "code",
   "execution_count": 9,
   "id": "48b455d9",
   "metadata": {},
   "outputs": [],
   "source": [
    "X=df_features[features]"
   ]
  },
  {
   "cell_type": "code",
   "execution_count": 10,
   "id": "0928d40b",
   "metadata": {},
   "outputs": [
    {
     "data": {
      "text/html": [
       "<div>\n",
       "<style scoped>\n",
       "    .dataframe tbody tr th:only-of-type {\n",
       "        vertical-align: middle;\n",
       "    }\n",
       "\n",
       "    .dataframe tbody tr th {\n",
       "        vertical-align: top;\n",
       "    }\n",
       "\n",
       "    .dataframe thead th {\n",
       "        text-align: right;\n",
       "    }\n",
       "</style>\n",
       "<table border=\"1\" class=\"dataframe\">\n",
       "  <thead>\n",
       "    <tr style=\"text-align: right;\">\n",
       "      <th></th>\n",
       "      <th>depth</th>\n",
       "      <th>depth_avg_22</th>\n",
       "      <th>depth_avg_15</th>\n",
       "      <th>depth_avg_7</th>\n",
       "      <th>mag_avg_22</th>\n",
       "      <th>mag_avg_15</th>\n",
       "      <th>mag_avg_7</th>\n",
       "    </tr>\n",
       "  </thead>\n",
       "  <tbody>\n",
       "    <tr>\n",
       "      <th>0</th>\n",
       "      <td>3.320</td>\n",
       "      <td>5.732727</td>\n",
       "      <td>6.249333</td>\n",
       "      <td>6.334286</td>\n",
       "      <td>1.196818</td>\n",
       "      <td>1.238667</td>\n",
       "      <td>1.511429</td>\n",
       "    </tr>\n",
       "    <tr>\n",
       "      <th>1</th>\n",
       "      <td>0.530</td>\n",
       "      <td>5.910455</td>\n",
       "      <td>5.754667</td>\n",
       "      <td>4.554286</td>\n",
       "      <td>1.113636</td>\n",
       "      <td>1.176667</td>\n",
       "      <td>1.265714</td>\n",
       "    </tr>\n",
       "    <tr>\n",
       "      <th>2</th>\n",
       "      <td>5.010</td>\n",
       "      <td>6.012273</td>\n",
       "      <td>5.925333</td>\n",
       "      <td>4.437143</td>\n",
       "      <td>1.062273</td>\n",
       "      <td>1.003333</td>\n",
       "      <td>1.075714</td>\n",
       "    </tr>\n",
       "    <tr>\n",
       "      <th>3</th>\n",
       "      <td>5.370</td>\n",
       "      <td>6.025000</td>\n",
       "      <td>5.922667</td>\n",
       "      <td>4.204286</td>\n",
       "      <td>1.134091</td>\n",
       "      <td>1.012000</td>\n",
       "      <td>1.044286</td>\n",
       "    </tr>\n",
       "    <tr>\n",
       "      <th>4</th>\n",
       "      <td>7.090</td>\n",
       "      <td>6.096364</td>\n",
       "      <td>6.022667</td>\n",
       "      <td>4.820000</td>\n",
       "      <td>1.115000</td>\n",
       "      <td>1.033333</td>\n",
       "      <td>1.007143</td>\n",
       "    </tr>\n",
       "    <tr>\n",
       "      <th>...</th>\n",
       "      <td>...</td>\n",
       "      <td>...</td>\n",
       "      <td>...</td>\n",
       "      <td>...</td>\n",
       "      <td>...</td>\n",
       "      <td>...</td>\n",
       "      <td>...</td>\n",
       "    </tr>\n",
       "    <tr>\n",
       "      <th>9474</th>\n",
       "      <td>88.951</td>\n",
       "      <td>54.526273</td>\n",
       "      <td>66.680800</td>\n",
       "      <td>33.159286</td>\n",
       "      <td>4.668182</td>\n",
       "      <td>4.566667</td>\n",
       "      <td>4.557143</td>\n",
       "    </tr>\n",
       "    <tr>\n",
       "      <th>9475</th>\n",
       "      <td>10.000</td>\n",
       "      <td>51.944682</td>\n",
       "      <td>66.680800</td>\n",
       "      <td>33.159286</td>\n",
       "      <td>4.690909</td>\n",
       "      <td>4.580000</td>\n",
       "      <td>4.600000</td>\n",
       "    </tr>\n",
       "    <tr>\n",
       "      <th>9476</th>\n",
       "      <td>130.569</td>\n",
       "      <td>57.425091</td>\n",
       "      <td>74.718733</td>\n",
       "      <td>50.383429</td>\n",
       "      <td>4.677273</td>\n",
       "      <td>4.573333</td>\n",
       "      <td>4.557143</td>\n",
       "    </tr>\n",
       "    <tr>\n",
       "      <th>9477</th>\n",
       "      <td>49.905</td>\n",
       "      <td>59.238955</td>\n",
       "      <td>39.177467</td>\n",
       "      <td>52.215000</td>\n",
       "      <td>4.686364</td>\n",
       "      <td>4.620000</td>\n",
       "      <td>4.542857</td>\n",
       "    </tr>\n",
       "    <tr>\n",
       "      <th>9478</th>\n",
       "      <td>151.604</td>\n",
       "      <td>65.675500</td>\n",
       "      <td>44.848800</td>\n",
       "      <td>72.444143</td>\n",
       "      <td>4.663636</td>\n",
       "      <td>4.586667</td>\n",
       "      <td>4.557143</td>\n",
       "    </tr>\n",
       "  </tbody>\n",
       "</table>\n",
       "<p>9479 rows × 7 columns</p>\n",
       "</div>"
      ],
      "text/plain": [
       "        depth  depth_avg_22  depth_avg_15  depth_avg_7  mag_avg_22  \\\n",
       "0       3.320      5.732727      6.249333     6.334286    1.196818   \n",
       "1       0.530      5.910455      5.754667     4.554286    1.113636   \n",
       "2       5.010      6.012273      5.925333     4.437143    1.062273   \n",
       "3       5.370      6.025000      5.922667     4.204286    1.134091   \n",
       "4       7.090      6.096364      6.022667     4.820000    1.115000   \n",
       "...       ...           ...           ...          ...         ...   \n",
       "9474   88.951     54.526273     66.680800    33.159286    4.668182   \n",
       "9475   10.000     51.944682     66.680800    33.159286    4.690909   \n",
       "9476  130.569     57.425091     74.718733    50.383429    4.677273   \n",
       "9477   49.905     59.238955     39.177467    52.215000    4.686364   \n",
       "9478  151.604     65.675500     44.848800    72.444143    4.663636   \n",
       "\n",
       "      mag_avg_15  mag_avg_7  \n",
       "0       1.238667   1.511429  \n",
       "1       1.176667   1.265714  \n",
       "2       1.003333   1.075714  \n",
       "3       1.012000   1.044286  \n",
       "4       1.033333   1.007143  \n",
       "...          ...        ...  \n",
       "9474    4.566667   4.557143  \n",
       "9475    4.580000   4.600000  \n",
       "9476    4.573333   4.557143  \n",
       "9477    4.620000   4.542857  \n",
       "9478    4.586667   4.557143  \n",
       "\n",
       "[9479 rows x 7 columns]"
      ]
     },
     "execution_count": 10,
     "metadata": {},
     "output_type": "execute_result"
    }
   ],
   "source": [
    "X"
   ]
  },
  {
   "cell_type": "code",
   "execution_count": 11,
   "id": "5a788c19",
   "metadata": {},
   "outputs": [],
   "source": [
    "y=df_features[\"mag_outcome\"]"
   ]
  },
  {
   "cell_type": "code",
   "execution_count": 12,
   "id": "5665b0d7",
   "metadata": {},
   "outputs": [
    {
     "data": {
      "text/plain": [
       "0       0\n",
       "1       0\n",
       "2       0\n",
       "3       0\n",
       "4       0\n",
       "       ..\n",
       "9474    1\n",
       "9475    1\n",
       "9476    1\n",
       "9477    1\n",
       "9478    1\n",
       "Name: mag_outcome, Length: 9479, dtype: int64"
      ]
     },
     "execution_count": 12,
     "metadata": {},
     "output_type": "execute_result"
    }
   ],
   "source": [
    "y"
   ]
  },
  {
   "cell_type": "code",
   "execution_count": 13,
   "id": "fb113d5b",
   "metadata": {},
   "outputs": [],
   "source": [
    "y_df=pd.DataFrame(y)"
   ]
  },
  {
   "cell_type": "markdown",
   "id": "74aaf097",
   "metadata": {},
   "source": [
    "## Train Test Split"
   ]
  },
  {
   "cell_type": "code",
   "execution_count": 14,
   "id": "bfc51263",
   "metadata": {},
   "outputs": [],
   "source": [
    "X_train, X_test, y_train, y_test = train_test_split(df_features[features],\n",
    "                     df_features['mag_outcome'], test_size=0.3, random_state=42)"
   ]
  },
  {
   "cell_type": "markdown",
   "id": "7ca9204c",
   "metadata": {},
   "source": [
    "\n",
    "Models used for training:\n",
    "\n",
    "- Adaboost classifier with DecisionTree\n",
    "- Adaboost classifier with RandomForest\n",
    "- GridSearch CV for hyper parameter tunning\n",
    "\n",
    "Model for deployment/testing:\n",
    "\n",
    "- XgBoost with Hyperparameters set from above models\n"
   ]
  },
  {
   "cell_type": "markdown",
   "id": "88d26b90",
   "metadata": {},
   "source": [
    "## AdaBoost "
   ]
  },
  {
   "cell_type": "markdown",
   "id": "2139c245",
   "metadata": {},
   "source": [
    "#### AdaBoost + Decsion Tree Classifier"
   ]
  },
  {
   "cell_type": "code",
   "execution_count": 15,
   "id": "1749eb03",
   "metadata": {},
   "outputs": [],
   "source": [
    "param_grid = {\n",
    "              \"base_estimator__max_depth\" :   [2,5,7],\n",
    "              \"n_estimators\": [200, 400, 600]\n",
    "             }"
   ]
  },
  {
   "cell_type": "code",
   "execution_count": 16,
   "id": "087f0be8",
   "metadata": {},
   "outputs": [],
   "source": [
    "# base estimator\n",
    "tree = DecisionTreeClassifier()"
   ]
  },
  {
   "cell_type": "code",
   "execution_count": 17,
   "id": "beaa3d51",
   "metadata": {},
   "outputs": [],
   "source": [
    "# adaboost with the tree as base estimator\n",
    "# learning rate is arbitrarily set to 0.6,\n",
    "ABC = AdaBoostClassifier(\n",
    "    base_estimator=tree,\n",
    "    learning_rate=0.6,\n",
    "    algorithm=\"SAMME\")"
   ]
  },
  {
   "cell_type": "code",
   "execution_count": 18,
   "id": "2c8841e4",
   "metadata": {},
   "outputs": [],
   "source": [
    "# run grid search\n",
    "grid_search_ABC = GridSearchCV(ABC,\n",
    "                               param_grid=param_grid, \n",
    "                               scoring = 'roc_auc', \n",
    "                               return_train_score=True,                         \n",
    "                               verbose = 1)"
   ]
  },
  {
   "cell_type": "code",
   "execution_count": 19,
   "id": "1f41412c",
   "metadata": {},
   "outputs": [
    {
     "name": "stdout",
     "output_type": "stream",
     "text": [
      "Fitting 5 folds for each of 9 candidates, totalling 45 fits\n"
     ]
    },
    {
     "data": {
      "text/plain": [
       "GridSearchCV(estimator=AdaBoostClassifier(algorithm='SAMME',\n",
       "                                          base_estimator=DecisionTreeClassifier(),\n",
       "                                          learning_rate=0.6),\n",
       "             param_grid={'base_estimator__max_depth': [2, 5, 7],\n",
       "                         'n_estimators': [200, 400, 600]},\n",
       "             return_train_score=True, scoring='roc_auc', verbose=1)"
      ]
     },
     "execution_count": 19,
     "metadata": {},
     "output_type": "execute_result"
    }
   ],
   "source": [
    "grid_search_ABC.fit(X_train,y_train)"
   ]
  },
  {
   "cell_type": "code",
   "execution_count": 20,
   "id": "3c7e1ce5",
   "metadata": {},
   "outputs": [],
   "source": [
    "pred_ABC=grid_search_ABC.predict(X_test)"
   ]
  },
  {
   "cell_type": "code",
   "execution_count": 21,
   "id": "a30fed48",
   "metadata": {},
   "outputs": [
    {
     "name": "stdout",
     "output_type": "stream",
     "text": [
      "Train Accuracy: 99.9546875 %\n",
      "Test Accuracy: 99.14833372865274 %\n",
      "Precision Score:  0.944954128440367\n",
      "Recall Score:  0.8306451612903226\n",
      "F1 Score:  0.8841201716738197\n"
     ]
    }
   ],
   "source": [
    "print(\"Train Accuracy:\",grid_search_ABC.score(X_train, y_train)*100,\"%\")\n",
    "print(\"Test Accuracy:\",grid_search_ABC.score(X_test, y_test)*100,\"%\")\n",
    "print(\"Precision Score: \",precision_score(y_test, pred_ABC))\n",
    "print(\"Recall Score: \",recall_score(y_test, pred_ABC)) \n",
    "print(\"F1 Score: \",f1_score(y_test, pred_ABC))"
   ]
  },
  {
   "cell_type": "code",
   "execution_count": 22,
   "id": "5a687995",
   "metadata": {},
   "outputs": [
    {
     "name": "stdout",
     "output_type": "stream",
     "text": [
      "Confusion Matrix: \n",
      "[[2714    6]\n",
      " [  21  103]]\n"
     ]
    }
   ],
   "source": [
    "print(\"Confusion Matrix: \")\n",
    "cm_abc=confusion_matrix(y_test, pred_ABC)\n",
    "print(cm_abc)"
   ]
  },
  {
   "cell_type": "code",
   "execution_count": 23,
   "id": "89aaaca6",
   "metadata": {},
   "outputs": [
    {
     "name": "stdout",
     "output_type": "stream",
     "text": [
      "AUC: 0.9142\n"
     ]
    },
    {
     "data": {
      "image/png": "[encoded data removed]",
      "text/plain": [
       "<Figure size 640x480 with 1 Axes>"
      ]
     },
     "metadata": {},
     "output_type": "display_data"
    }
   ],
   "source": [
    "fpr, tpr, _ = roc_curve(y_test, pred_ABC)\n",
    "roc_auc = auc(fpr, tpr)\n",
    "print('AUC:', np.round(roc_auc,4))\n",
    "plt.title('ROC for AdaBoost + Decision Tree')\n",
    "plt.plot(fpr, tpr, 'b', label = 'AUC = %0.2f' % roc_auc)\n",
    "plt.legend(loc = 'lower right')\n",
    "plt.plot([0, 1], [0, 1],'r--')\n",
    "plt.xlim([0, 1])\n",
    "plt.ylim([0, 1])\n",
    "plt.ylabel('True Positive Rate')\n",
    "plt.xlabel('False Positive Rate')\n",
    "plt.show()"
   ]
  },
  {
   "cell_type": "markdown",
   "id": "e18578b1",
   "metadata": {},
   "source": [
    "#### AdaBoost with Random Forest Classifier"
   ]
  },
  {
   "cell_type": "code",
   "execution_count": 24,
   "id": "2fc7c88a",
   "metadata": {},
   "outputs": [],
   "source": [
    "rfc = RandomForestClassifier(n_jobs=-1,max_features= 'sqrt' ,n_estimators=50, oob_score = True) "
   ]
  },
  {
   "cell_type": "code",
   "execution_count": 25,
   "id": "9d63621c",
   "metadata": {},
   "outputs": [],
   "source": [
    "param_grid = { \n",
    "    'n_estimators': [200, 700],\n",
    "    'max_features': ['auto', 'sqrt', 'log2']\n",
    "}"
   ]
  },
  {
   "cell_type": "code",
   "execution_count": 26,
   "id": "f1389e78",
   "metadata": {},
   "outputs": [
    {
     "data": {
      "text/plain": [
       "GridSearchCV(cv=5,\n",
       "             estimator=RandomForestClassifier(max_features='sqrt',\n",
       "                                              n_estimators=50, n_jobs=-1,\n",
       "                                              oob_score=True),\n",
       "             param_grid={'max_features': ['auto', 'sqrt', 'log2'],\n",
       "                         'n_estimators': [200, 700]})"
      ]
     },
     "execution_count": 26,
     "metadata": {},
     "output_type": "execute_result"
    }
   ],
   "source": [
    "CV_rfc = GridSearchCV(estimator=rfc, param_grid=param_grid, cv= 5)\n",
    "CV_rfc.fit(X_train, y_train)"
   ]
  },
  {
   "cell_type": "code",
   "execution_count": 27,
   "id": "ecea11ca",
   "metadata": {},
   "outputs": [],
   "source": [
    "pred=CV_rfc.predict(X_test)"
   ]
  },
  {
   "cell_type": "code",
   "execution_count": 28,
   "id": "d80613bf",
   "metadata": {},
   "outputs": [
    {
     "name": "stdout",
     "output_type": "stream",
     "text": [
      "Train Accuracy: 100.0 %\n",
      "Test Accuracy: 99.19127988748242 %\n",
      "Precision Score:  0.9719626168224299\n",
      "Recall Score:  0.8387096774193549\n",
      "F1 Score:  0.9004329004329005\n"
     ]
    }
   ],
   "source": [
    "print(\"Train Accuracy:\",CV_rfc.score(X_train, y_train)*100,\"%\")\n",
    "print(\"Test Accuracy:\",CV_rfc.score(X_test, y_test)*100,\"%\")\n",
    "print(\"Precision Score: \",precision_score(y_test, pred))\n",
    "print(\"Recall Score: \",recall_score(y_test, pred)) \n",
    "print(\"F1 Score: \",f1_score(y_test, pred))"
   ]
  },
  {
   "cell_type": "code",
   "execution_count": 29,
   "id": "dae544f9",
   "metadata": {},
   "outputs": [
    {
     "name": "stdout",
     "output_type": "stream",
     "text": [
      "Confusion Matrix: \n",
      "[[2717    3]\n",
      " [  20  104]]\n"
     ]
    }
   ],
   "source": [
    "print(\"Confusion Matrix: \")\n",
    "cm_abc_rf=confusion_matrix(y_test, pred)\n",
    "print(cm_abc_rf)"
   ]
  },
  {
   "cell_type": "code",
   "execution_count": 30,
   "id": "bf1cfafd",
   "metadata": {},
   "outputs": [
    {
     "name": "stdout",
     "output_type": "stream",
     "text": [
      "AUC: 0.9188\n"
     ]
    },
    {
     "data": {
      "image/png": "[encoded data removed]",
      "text/plain": [
       "<Figure size 640x480 with 1 Axes>"
      ]
     },
     "metadata": {},
     "output_type": "display_data"
    }
   ],
   "source": [
    "fpr, tpr, _ = roc_curve(y_test, pred)\n",
    "roc_auc = auc(fpr, tpr)\n",
    "print('AUC:', np.round(roc_auc,4))\n",
    "plt.title('ROC for AdaBoost + Random Forest')\n",
    "plt.plot(fpr, tpr, 'b', label = 'AUC = %0.2f' % roc_auc)\n",
    "plt.legend(loc = 'lower right')\n",
    "plt.plot([0, 1], [0, 1],'r--')\n",
    "plt.xlim([0, 1])\n",
    "plt.ylim([0, 1])\n",
    "plt.ylabel('True Positive Rate')\n",
    "plt.xlabel('False Positive Rate')\n",
    "plt.show()"
   ]
  },
  {
   "cell_type": "markdown",
   "id": "e471e336",
   "metadata": {},
   "source": [
    "## XgBoost"
   ]
  },
  {
   "cell_type": "code",
   "execution_count": 45,
   "id": "89af27ab",
   "metadata": {},
   "outputs": [],
   "source": [
    "import xgboost as xgb"
   ]
  },
  {
   "cell_type": "code",
   "execution_count": 53,
   "id": "62dc6cf8",
   "metadata": {},
   "outputs": [
    {
     "data": {
      "text/plain": [
       "XGBClassifier(base_score=None, booster=None, callbacks=None,\n",
       "              colsample_bylevel=None, colsample_bynode=None,\n",
       "              colsample_bytree=None, early_stopping_rounds=None,\n",
       "              enable_categorical=False, eval_metric=None, feature_types=None,\n",
       "              gamma=None, gpu_id=None, grow_policy=None, importance_type=None,\n",
       "              interaction_constraints=None, learning_rate=None, max_bin=None,\n",
       "              max_cat_threshold=None, max_cat_to_onehot=None,\n",
       "              max_delta_step=None, max_depth=None, max_leaves=None,\n",
       "              min_child_weight=None, missing=nan, monotone_constraints=None,\n",
       "              n_estimators=100, n_jobs=None, num_parallel_tree=None,\n",
       "              predictor=None, random_state=None, ...)"
      ]
     },
     "execution_count": 53,
     "metadata": {},
     "output_type": "execute_result"
    }
   ],
   "source": [
    "model_xg = xgb.XGBClassifier()\n",
    "\n",
    "model_xg.fit(X_train,y_train)"
   ]
  },
  {
   "cell_type": "code",
   "execution_count": 54,
   "id": "0f6d708d",
   "metadata": {},
   "outputs": [],
   "source": [
    "y_pred_xg = model_xg.predict(X_test)"
   ]
  },
  {
   "cell_type": "code",
   "execution_count": 55,
   "id": "c826321a",
   "metadata": {},
   "outputs": [
    {
     "name": "stdout",
     "output_type": "stream",
     "text": [
      "0.9272355313092979\n",
      "AUC: 0.9272\n"
     ]
    }
   ],
   "source": [
    "print (roc_auc_score(y_test, y_pred_xg))\n",
    "fpr, tpr, _ = roc_curve(y_test, y_pred_xg)\n",
    "roc_auc = auc(fpr, tpr)\n",
    "print('AUC:', np.round(roc_auc,4))"
   ]
  },
  {
   "cell_type": "code",
   "execution_count": 56,
   "id": "0a348c4b",
   "metadata": {},
   "outputs": [
    {
     "name": "stdout",
     "output_type": "stream",
     "text": [
      "Results obtained for XG Boost\n",
      "\n",
      "Train Accuracy: 99.98492840994724 %\n",
      "Test Accuracy: 99.33192686357243 %\n",
      "Precision Score:  0.9933192686357243\n",
      "Recall Score:  0.9933192686357243\n",
      "F1 Score:  0.9933192686357243\n",
      "\n",
      "\n",
      "Confusion Matrix: \n",
      "[[2719    1]\n",
      " [  18  106]]\n"
     ]
    }
   ],
   "source": [
    "print('Results obtained for XG Boost\\n')\n",
    "\n",
    "\n",
    "print(\"Train Accuracy:\",model_xg.score(X_train, y_train)*100,\"%\")\n",
    "xg_acc=model_xg.score(X_test, y_test)*100\n",
    "print(\"Test Accuracy:\",xg_acc,\"%\")\n",
    "print(\"Precision Score: \",precision_score(y_test, y_pred_xg,average=\"micro\"))\n",
    "print(\"Recall Score: \",recall_score(y_test, y_pred_xg,average=\"micro\")) \n",
    "print(\"F1 Score: \",f1_score(y_test, y_pred_xg,average=\"micro\"))\n",
    "# print(\"ROC AUC Score: \",roc_auc_score(y, model_xg.predict_proba(X)[:, 1]))\n",
    "\n",
    "print(\"\\n\\nConfusion Matrix: \")\n",
    "cm_xg=confusion_matrix(y_test, y_pred_xg)\n",
    "print(cm_xg)"
   ]
  },
  {
   "cell_type": "code",
   "execution_count": 63,
   "id": "c06c1c65",
   "metadata": {},
   "outputs": [],
   "source": [
    "from sklearn.model_selection import GridSearchCV\n",
    "\n",
    "param = {\n",
    "        'objective': ['binary:logistic'],\n",
    "        'booster': ['gbtree'],\n",
    "        'eval_metric': ['auc'],\n",
    "        'max_depth': [6],  # the maximum depth of each tree\n",
    "        'eta': [0.003],  # the training step for each iteration\n",
    "        'silent': [1]}"
   ]
  },
  {
   "cell_type": "code",
   "execution_count": 64,
   "id": "599c6db6",
   "metadata": {},
   "outputs": [
    {
     "name": "stdout",
     "output_type": "stream",
     "text": [
      "[01:00:04] WARNING: /Users/runner/work/xgboost/xgboost/python-package/build/temp.macosx-10.9-x86_64-cpython-38/xgboost/src/learner.cc:767: \n",
      "Parameters: { \"silent\" } are not used.\n",
      "\n",
      "[01:00:04] WARNING: /Users/runner/work/xgboost/xgboost/python-package/build/temp.macosx-10.9-x86_64-cpython-38/xgboost/src/learner.cc:767: \n",
      "Parameters: { \"silent\" } are not used.\n",
      "\n",
      "[01:00:04] WARNING: /Users/runner/work/xgboost/xgboost/python-package/build/temp.macosx-10.9-x86_64-cpython-38/xgboost/src/learner.cc:767: \n",
      "Parameters: { \"silent\" } are not used.\n",
      "\n",
      "[01:00:04] WARNING: /Users/runner/work/xgboost/xgboost/python-package/build/temp.macosx-10.9-x86_64-cpython-38/xgboost/src/learner.cc:767: \n",
      "Parameters: { \"silent\" } are not used.\n",
      "\n",
      "[01:00:04] WARNING: /Users/runner/work/xgboost/xgboost/python-package/build/temp.macosx-10.9-x86_64-cpython-38/xgboost/src/learner.cc:767: \n",
      "Parameters: { \"silent\" } are not used.\n",
      "\n",
      "[01:00:04] WARNING: /Users/runner/work/xgboost/xgboost/python-package/build/temp.macosx-10.9-x86_64-cpython-38/xgboost/src/learner.cc:767: \n",
      "Parameters: { \"silent\" } are not used.\n",
      "\n"
     ]
    },
    {
     "data": {
      "text/plain": [
       "GridSearchCV(cv=5,\n",
       "             estimator=XGBClassifier(base_score=None, booster=None,\n",
       "                                     callbacks=None, colsample_bylevel=None,\n",
       "                                     colsample_bynode=None,\n",
       "                                     colsample_bytree=None,\n",
       "                                     early_stopping_rounds=None,\n",
       "                                     enable_categorical=False, eval_metric=None,\n",
       "                                     feature_types=None, gamma=None,\n",
       "                                     gpu_id=None, grow_policy=None,\n",
       "                                     importance_type=None,\n",
       "                                     interaction_constraints=None,\n",
       "                                     learning_rate=None,...\n",
       "                                     max_cat_to_onehot=None,\n",
       "                                     max_delta_step=None, max_depth=None,\n",
       "                                     max_leaves=None, min_child_weight=None,\n",
       "                                     missing=nan, monotone_constraints=None,\n",
       "                                     n_estimators=100, n_jobs=None,\n",
       "                                     num_parallel_tree=None, predictor=None,\n",
       "                                     random_state=None, ...),\n",
       "             param_grid={'booster': ['gbtree'], 'eta': [0.003],\n",
       "                         'eval_metric': ['auc'], 'max_depth': [6],\n",
       "                         'objective': ['binary:logistic'], 'silent': [1]})"
      ]
     },
     "execution_count": 64,
     "metadata": {},
     "output_type": "execute_result"
    }
   ],
   "source": [
    "grid_search_xg = GridSearchCV(model_xg, param_grid=param, cv=5)\n",
    "grid_search_xg.fit(X_train, y_train)"
   ]
  },
  {
   "cell_type": "code",
   "execution_count": 65,
   "id": "521870df",
   "metadata": {},
   "outputs": [
    {
     "name": "stdout",
     "output_type": "stream",
     "text": [
      "The test accuracy score of the grid-searched pipeline is: 0.99\n"
     ]
    }
   ],
   "source": [
    "accuracy = grid_search_xg.score(X_test, y_test)\n",
    "print(\n",
    "    f\"The test accuracy score of the grid-searched pipeline is: \"\n",
    "    f\"{accuracy:.2f}\"\n",
    ")"
   ]
  },
  {
   "cell_type": "code",
   "execution_count": 68,
   "id": "bc78fee8",
   "metadata": {},
   "outputs": [
    {
     "name": "stdout",
     "output_type": "stream",
     "text": [
      "0.8986420777988615\n"
     ]
    }
   ],
   "source": [
    "print (roc_auc_score(y_test, pred_xg))"
   ]
  },
  {
   "cell_type": "code",
   "execution_count": 67,
   "id": "68823dc6",
   "metadata": {},
   "outputs": [],
   "source": [
    "pred_xg=grid_search_xg.predict(X_test)"
   ]
  },
  {
   "cell_type": "code",
   "execution_count": 33,
   "id": "22b5437a",
   "metadata": {},
   "outputs": [
    {
     "name": "stdout",
     "output_type": "stream",
     "text": [
      "[19:30:03] WARNING: /Users/runner/work/xgboost/xgboost/python-package/build/temp.macosx-10.9-x86_64-cpython-38/xgboost/src/learner.cc:767: \n",
      "Parameters: { \"silent\" } are not used.\n",
      "\n"
     ]
    }
   ],
   "source": [
    "bst = xgb.train(param, dtrain, num_round)\n",
    "preds = bst.predict(dtest)"
   ]
  },
  {
   "cell_type": "code",
   "execution_count": 34,
   "id": "6df02602",
   "metadata": {},
   "outputs": [
    {
     "name": "stdout",
     "output_type": "stream",
     "text": [
      "0.9927478652751424\n",
      "AUC: 0.9927\n"
     ]
    }
   ],
   "source": [
    "print (roc_auc_score(y_test, preds))\n",
    "fpr, tpr, _ = roc_curve(y_test, preds)\n",
    "roc_auc = auc(fpr, tpr)\n",
    "print('AUC:', np.round(roc_auc,4))"
   ]
  },
  {
   "cell_type": "code",
   "execution_count": 35,
   "id": "b87c7d82",
   "metadata": {},
   "outputs": [],
   "source": [
    "ypred_bst = np.array(bst.predict(dtest,ntree_limit=bst.best_iteration))\n",
    "ypred_bst  = ypred_bst > 0.5\n",
    "ypred_bst = ypred_bst.astype(int) "
   ]
  },
  {
   "cell_type": "code",
   "execution_count": 36,
   "id": "2d9ddd06",
   "metadata": {},
   "outputs": [
    {
     "data": {
      "image/png": "[encoded data removed]",
      "text/plain": [
       "<Figure size 640x480 with 1 Axes>"
      ]
     },
     "metadata": {},
     "output_type": "display_data"
    }
   ],
   "source": [
    "plt.title('ROC for XgBoost')\n",
    "plt.plot(fpr, tpr, 'b', label = 'AUC = %0.2f' % roc_auc)\n",
    "plt.legend(loc = 'lower right')\n",
    "plt.plot([0, 1], [0, 1],'r--')\n",
    "plt.xlim([0, 1])\n",
    "plt.ylim([0, 1])\n",
    "plt.ylabel('True Positive Rate')\n",
    "plt.xlabel('False Positive Rate')\n",
    "plt.show()"
   ]
  },
  {
   "cell_type": "code",
   "execution_count": 37,
   "id": "bc6d3348",
   "metadata": {},
   "outputs": [
    {
     "name": "stdout",
     "output_type": "stream",
     "text": [
      "Confusion Matrix: \n",
      " [[2718    2]\n",
      " [  20  104]]\n",
      "\n",
      "Recall 'TP/TP+FN' =  0.8387096774193549\n"
     ]
    }
   ],
   "source": [
    "print(\"Confusion Matrix: \\n\",confusion_matrix(y_test,ypred_bst))\n",
    "print(\"\\nRecall 'TP/TP+FN' = \", recall_score(y_test,ypred_bst))"
   ]
  },
  {
   "cell_type": "markdown",
   "id": "a58fb290",
   "metadata": {},
   "source": [
    "### Prediction on df_predict data frame"
   ]
  },
  {
   "cell_type": "code",
   "execution_count": 38,
   "id": "c4795fcc",
   "metadata": {},
   "outputs": [
    {
     "data": {
      "image/png": "[encoded data removed]",
      "text/plain": [
       "<Figure size 640x480 with 1 Axes>"
      ]
     },
     "metadata": {},
     "output_type": "display_data"
    }
   ],
   "source": [
    "dlive = xgb.DMatrix(df_predict[features]) #, label=[])\n",
    "preds = bst.predict(dlive)\n",
    "\n",
    "plt.title(\"Prediction on live Data\")\n",
    "plt.ylabel(\"Magnitude\")\n",
    "plt.xlabel(\"Number of Data Points\")\n",
    "plt.plot(preds)\n",
    "plt.show()"
   ]
  },
  {
   "cell_type": "markdown",
   "id": "92a72128",
   "metadata": {},
   "source": [
    "## Prediction"
   ]
  },
  {
   "cell_type": "code",
   "execution_count": 39,
   "id": "a7a60e8c",
   "metadata": {},
   "outputs": [
    {
     "data": {
      "text/html": [
       "<div>\n",
       "<style scoped>\n",
       "    .dataframe tbody tr th:only-of-type {\n",
       "        vertical-align: middle;\n",
       "    }\n",
       "\n",
       "    .dataframe tbody tr th {\n",
       "        vertical-align: top;\n",
       "    }\n",
       "\n",
       "    .dataframe thead th {\n",
       "        text-align: right;\n",
       "    }\n",
       "</style>\n",
       "<table border=\"1\" class=\"dataframe\">\n",
       "  <thead>\n",
       "    <tr style=\"text-align: right;\">\n",
       "      <th></th>\n",
       "      <th>date</th>\n",
       "      <th>place</th>\n",
       "      <th>latitude</th>\n",
       "      <th>longitude</th>\n",
       "      <th>quake</th>\n",
       "    </tr>\n",
       "  </thead>\n",
       "  <tbody>\n",
       "    <tr>\n",
       "      <th>68</th>\n",
       "      <td>2023-03-18</td>\n",
       "      <td>Philippines</td>\n",
       "      <td>9.823771</td>\n",
       "      <td>124.523266</td>\n",
       "      <td>0.997920</td>\n",
       "    </tr>\n",
       "    <tr>\n",
       "      <th>69</th>\n",
       "      <td>2023-03-18</td>\n",
       "      <td>Puerto Rico</td>\n",
       "      <td>18.260614</td>\n",
       "      <td>-66.665198</td>\n",
       "      <td>0.778681</td>\n",
       "    </tr>\n",
       "    <tr>\n",
       "      <th>70</th>\n",
       "      <td>2023-03-18</td>\n",
       "      <td>Texas</td>\n",
       "      <td>31.888183</td>\n",
       "      <td>-102.961827</td>\n",
       "      <td>0.010316</td>\n",
       "    </tr>\n",
       "    <tr>\n",
       "      <th>71</th>\n",
       "      <td>2023-03-18</td>\n",
       "      <td>Turkey</td>\n",
       "      <td>37.709543</td>\n",
       "      <td>37.263933</td>\n",
       "      <td>0.997510</td>\n",
       "    </tr>\n",
       "    <tr>\n",
       "      <th>72</th>\n",
       "      <td>2023-03-18</td>\n",
       "      <td>Washington</td>\n",
       "      <td>46.965348</td>\n",
       "      <td>-121.890363</td>\n",
       "      <td>0.000191</td>\n",
       "    </tr>\n",
       "  </tbody>\n",
       "</table>\n",
       "</div>"
      ],
      "text/plain": [
       "         date        place   latitude   longitude     quake\n",
       "68 2023-03-18  Philippines   9.823771  124.523266  0.997920\n",
       "69 2023-03-18  Puerto Rico  18.260614  -66.665198  0.778681\n",
       "70 2023-03-18        Texas  31.888183 -102.961827  0.010316\n",
       "71 2023-03-18       Turkey  37.709543   37.263933  0.997510\n",
       "72 2023-03-18   Washington  46.965348 -121.890363  0.000191"
      ]
     },
     "execution_count": 39,
     "metadata": {},
     "output_type": "execute_result"
    }
   ],
   "source": [
    "live_set = df_predict[['date', 'place', 'latitude', 'longitude']]\n",
    "live_set.loc[:,'quake'] = preds\n",
    "# aggregate down dups\n",
    "live_set = live_set.groupby(['date', 'place'], as_index=False).mean()\n",
    "\n",
    "# increment date to include DAYS_OUT_TO_PREDICT\n",
    "live_set['date']= pd.to_datetime(live_set['date'],format='%Y-%m-%d') \n",
    "live_set['date'] = live_set['date'] + pd.to_timedelta(7,unit='d')\n",
    "\n",
    "live_set.tail()"
   ]
  },
  {
   "cell_type": "code",
   "execution_count": 40,
   "id": "6e5c72a8",
   "metadata": {},
   "outputs": [],
   "source": [
    "import datetime as dt\n",
    "# convert date to proper format for prediction\n",
    "days = list(set([d for d in live_set['date'].astype(str)]))\n",
    "days.sort()"
   ]
  },
  {
   "cell_type": "code",
   "execution_count": 41,
   "id": "536826c5",
   "metadata": {},
   "outputs": [
    {
     "data": {
      "text/plain": [
       "['2023-03-07',\n",
       " '2023-03-09',\n",
       " '2023-03-10',\n",
       " '2023-03-11',\n",
       " '2023-03-12',\n",
       " '2023-03-13',\n",
       " '2023-03-14',\n",
       " '2023-03-15',\n",
       " '2023-03-16',\n",
       " '2023-03-17',\n",
       " '2023-03-18']"
      ]
     },
     "execution_count": 41,
     "metadata": {},
     "output_type": "execute_result"
    }
   ],
   "source": [
    "days"
   ]
  },
  {
   "cell_type": "code",
   "execution_count": 42,
   "id": "f98016ac",
   "metadata": {},
   "outputs": [
    {
     "data": {
      "text/plain": [
       "'2023-03-10'"
      ]
     },
     "execution_count": 42,
     "metadata": {},
     "output_type": "execute_result"
    }
   ],
   "source": [
    "# Predict NaN outcome value in earthquake for next day 1.\n",
    "predict_day=days[2]\n",
    "predict_day"
   ]
  },
  {
   "cell_type": "code",
   "execution_count": 43,
   "id": "8577e46a",
   "metadata": {},
   "outputs": [
    {
     "data": {
      "image/png": "[encoded data removed]",
      "text/plain": [
       "<Figure size 640x480 with 1 Axes>"
      ]
     },
     "metadata": {},
     "output_type": "display_data"
    },
    {
     "data": {
      "image/png": "[encoded data removed]",
      "text/plain": [
       "<Figure size 640x480 with 1 Axes>"
      ]
     },
     "metadata": {},
     "output_type": "display_data"
    },
    {
     "data": {
      "image/png": "[encoded data removed]",
      "text/plain": [
       "<Figure size 640x480 with 1 Axes>"
      ]
     },
     "metadata": {},
     "output_type": "display_data"
    },
    {
     "data": {
      "image/png": "[encoded data removed]",
      "text/plain": [
       "<Figure size 640x480 with 1 Axes>"
      ]
     },
     "metadata": {},
     "output_type": "display_data"
    },
    {
     "data": {
      "image/png": "[encoded data removed]",
      "text/plain": [
       "<Figure size 640x480 with 1 Axes>"
      ]
     },
     "metadata": {},
     "output_type": "display_data"
    },
    {
     "data": {
      "image/png": "[encoded data removed]",
      "text/plain": [
       "<Figure size 640x480 with 1 Axes>"
      ]
     },
     "metadata": {},
     "output_type": "display_data"
    },
    {
     "data": {
      "image/png": "[encoded data removed]",
      "text/plain": [
       "<Figure size 640x480 with 1 Axes>"
      ]
     },
     "metadata": {},
     "output_type": "display_data"
    }
   ],
   "source": [
    "# place, date, lat and long with earthquake probability for next 7 days\n",
    "for i in range(0,7):\n",
    "    live_set_tmp = live_set[live_set['date'] == days[i]]\n",
    "    plt.scatter(live_set_tmp['longitude'], live_set_tmp['latitude'], s=(live_set_tmp['quake'] * 100))\n",
    "    plt.suptitle('Future Earthquakes for ' + days[i])\n",
    "    plt.xlabel('Longitude')\n",
    "    plt.ylabel('Latitude')\n",
    "    plt.grid()\n",
    "    plt.show()"
   ]
  },
  {
   "cell_type": "code",
   "execution_count": null,
   "id": "21b90fb2",
   "metadata": {},
   "outputs": [],
   "source": []
  }
 ],
 "metadata": {
  "kernelspec": {
   "display_name": "Python 3 (ipykernel)",
   "language": "python",
   "name": "python3"
  },
  "language_info": {
   "codemirror_mode": {
    "name": "ipython",
    "version": 3
   },
   "file_extension": ".py",
   "mimetype": "text/x-python",
   "name": "python",
   "nbconvert_exporter": "python",
   "pygments_lexer": "ipython3",
   "version": "3.9.13"
  }
 },
 "nbformat": 4,
 "nbformat_minor": 5
}
